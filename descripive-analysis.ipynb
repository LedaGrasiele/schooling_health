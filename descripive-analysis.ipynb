{
 "cells": [
  {
   "cell_type": "code",
   "execution_count": 1,
   "metadata": {},
   "outputs": [],
   "source": [
    "%matplotlib inline\n",
    "import pandas as pd\n",
    "import numpy as np\n",
    "import matplotlib.pyplot as plt\n",
    "import statsmodels.formula.api as smf\n",
    "plt.style.use('seaborn-whitegrid')\n",
    "import seaborn as sns\n",
    "\n",
    "sns.set(style='whitegrid', palette='Set2')\n",
    "\n",
    "pd.options.mode.chained_assignment = None"
   ]
  },
  {
   "cell_type": "code",
   "execution_count": 2,
   "metadata": {},
   "outputs": [
    {
     "name": "stdout",
     "output_type": "stream",
     "text": [
      " início:  205546 \n",
      " idade > 17:  145580 \n",
      " não frequenta a escola:  129926 \n",
      " fundamental ou médio:  51155 \n",
      " rendimento > 0:  34479\n"
     ]
    }
   ],
   "source": [
    "pns1 = pd.read_csv('dados/pns.csv') # pns 2013\n",
    "pns2 = pns1.query('idade > 17') # incluir apenas quem já poderia ter concluído o ensino médio\n",
    "pns3 = pns2.query('freq_esc == 2') # apenas quem não frequenta mais a escola\n",
    "pns4 = pns3.query('escolaridade == [3, 5]') # apenas os dois níveis de escolaridade\n",
    "linha_vazia = pd.DataFrame([np.nan]).T\n",
    "\n",
    "pns5 = pns4.query('rendimento > 0') # rendimento maior do que 0\n",
    "\n",
    "print(' início: ', pns1.shape[0], '\\n',\n",
    "      'idade > 17: ', pns2.shape[0], '\\n',\n",
    "      'não frequenta a escola: ', pns3.shape[0], '\\n',\n",
    "      'fundamental ou médio: ', pns4.shape[0], '\\n',\n",
    "      'rendimento > 0: ', pns5.shape[0])"
   ]
  },
  {
   "cell_type": "markdown",
   "metadata": {},
   "source": [
    "### Escolaridade da população"
   ]
  },
  {
   "cell_type": "code",
   "execution_count": 4,
   "metadata": {},
   "outputs": [],
   "source": [
    "pns3.escolaridade = pns3.escolaridade.replace([4, 6], [3, 5]) # juntando incompleto c/ completo\n",
    "pns3['escolaridade'] = pns3.escolaridade.astype('category')\n",
    "pns3.escolaridade.cat.rename_categories(['uneducated', 'inc. elementary school', 'elementary school', 'high school', 'higher education'], inplace=True)\n",
    "pns3.escolaridade.cat.as_ordered(inplace=True)"
   ]
  },
  {
   "cell_type": "code",
   "execution_count": 6,
   "metadata": {},
   "outputs": [
    {
     "data": {
      "text/html": [
       "<div>\n",
       "<style scoped>\n",
       "    .dataframe tbody tr th:only-of-type {\n",
       "        vertical-align: middle;\n",
       "    }\n",
       "\n",
       "    .dataframe tbody tr th {\n",
       "        vertical-align: top;\n",
       "    }\n",
       "\n",
       "    .dataframe thead th {\n",
       "        text-align: right;\n",
       "    }\n",
       "</style>\n",
       "<table border=\"1\" class=\"dataframe\">\n",
       "  <thead>\n",
       "    <tr style=\"text-align: right;\">\n",
       "      <th></th>\n",
       "      <th>level of education</th>\n",
       "      <th>%</th>\n",
       "    </tr>\n",
       "  </thead>\n",
       "  <tbody>\n",
       "    <tr>\n",
       "      <th>2</th>\n",
       "      <td>uneducated</td>\n",
       "      <td>16.1</td>\n",
       "    </tr>\n",
       "    <tr>\n",
       "      <th>1</th>\n",
       "      <td>inc. elementary school</td>\n",
       "      <td>25.1</td>\n",
       "    </tr>\n",
       "    <tr>\n",
       "      <th>3</th>\n",
       "      <td>elementary school</td>\n",
       "      <td>14.2</td>\n",
       "    </tr>\n",
       "    <tr>\n",
       "      <th>0</th>\n",
       "      <td>high school</td>\n",
       "      <td>31.8</td>\n",
       "    </tr>\n",
       "    <tr>\n",
       "      <th>4</th>\n",
       "      <td>higher education</td>\n",
       "      <td>12.8</td>\n",
       "    </tr>\n",
       "  </tbody>\n",
       "</table>\n",
       "</div>"
      ],
      "text/plain": [
       "       level of education     %\n",
       "2              uneducated  16.1\n",
       "1  inc. elementary school  25.1\n",
       "3       elementary school  14.2\n",
       "0             high school  31.8\n",
       "4        higher education  12.8"
      ]
     },
     "execution_count": 6,
     "metadata": {},
     "output_type": "execute_result"
    }
   ],
   "source": [
    "esc = (pns3.escolaridade.value_counts(normalize=True)*100).round(1)\n",
    "esc = pd.DataFrame(esc).reset_index().iloc[[2, 1, 3, 0, 4]]\n",
    "esc.columns = ['level of education', '%']\n",
    "esc"
   ]
  },
  {
   "cell_type": "markdown",
   "metadata": {},
   "source": [
    "### **Analisando apenas quem tem ensino fundamental e/ou médio:**"
   ]
  },
  {
   "cell_type": "markdown",
   "metadata": {},
   "source": [
    "### Percepção"
   ]
  },
  {
   "cell_type": "code",
   "execution_count": 8,
   "metadata": {},
   "outputs": [],
   "source": [
    "pns4['percepcao'] = pns4.percepcao.astype('category')\n",
    "pns4.percepcao = pns4.percepcao.cat.rename_categories(['very good', 'good', 'regular', 'bad',\n",
    "                                                       'very bad'])"
   ]
  },
  {
   "cell_type": "code",
   "execution_count": 9,
   "metadata": {},
   "outputs": [],
   "source": [
    "pns4['escolaridade'] = pns4.escolaridade.astype('category')\n",
    "pns4.escolaridade = pns4.escolaridade.cat.rename_categories(['elementary school', 'high school'])"
   ]
  },
  {
   "cell_type": "code",
   "execution_count": 10,
   "metadata": {},
   "outputs": [
    {
     "data": {
      "text/plain": [
       "good         62.379044\n",
       "regular      22.113185\n",
       "very good    12.305737\n",
       "bad           2.676180\n",
       "very bad      0.525853\n",
       "Name: percepcao, dtype: float64"
      ]
     },
     "execution_count": 10,
     "metadata": {},
     "output_type": "execute_result"
    }
   ],
   "source": [
    "pns4.percepcao.value_counts(normalize=True)* 100"
   ]
  },
  {
   "cell_type": "markdown",
   "metadata": {},
   "source": [
    "#### Percepção de acordo com a escolaridade"
   ]
  },
  {
   "cell_type": "code",
   "execution_count": 11,
   "metadata": {},
   "outputs": [
    {
     "data": {
      "text/html": [
       "<div>\n",
       "<style scoped>\n",
       "    .dataframe tbody tr th:only-of-type {\n",
       "        vertical-align: middle;\n",
       "    }\n",
       "\n",
       "    .dataframe tbody tr th {\n",
       "        vertical-align: top;\n",
       "    }\n",
       "\n",
       "    .dataframe thead th {\n",
       "        text-align: right;\n",
       "    }\n",
       "</style>\n",
       "<table border=\"1\" class=\"dataframe\">\n",
       "  <thead>\n",
       "    <tr style=\"text-align: right;\">\n",
       "      <th>percepcao</th>\n",
       "      <th>very good</th>\n",
       "      <th>good</th>\n",
       "      <th>regular</th>\n",
       "      <th>bad</th>\n",
       "      <th>very bad</th>\n",
       "    </tr>\n",
       "    <tr>\n",
       "      <th>escolaridade</th>\n",
       "      <th></th>\n",
       "      <th></th>\n",
       "      <th></th>\n",
       "      <th></th>\n",
       "      <th></th>\n",
       "    </tr>\n",
       "  </thead>\n",
       "  <tbody>\n",
       "    <tr>\n",
       "      <th>elementary school</th>\n",
       "      <td>9.2</td>\n",
       "      <td>57.3</td>\n",
       "      <td>28.4</td>\n",
       "      <td>4.2</td>\n",
       "      <td>0.9</td>\n",
       "    </tr>\n",
       "    <tr>\n",
       "      <th>high school</th>\n",
       "      <td>13.3</td>\n",
       "      <td>64.0</td>\n",
       "      <td>20.0</td>\n",
       "      <td>2.2</td>\n",
       "      <td>0.4</td>\n",
       "    </tr>\n",
       "  </tbody>\n",
       "</table>\n",
       "</div>"
      ],
      "text/plain": [
       "percepcao          very good  good  regular  bad  very bad\n",
       "escolaridade                                              \n",
       "elementary school        9.2  57.3     28.4  4.2       0.9\n",
       "high school             13.3  64.0     20.0  2.2       0.4"
      ]
     },
     "execution_count": 11,
     "metadata": {},
     "output_type": "execute_result"
    }
   ],
   "source": [
    "percepcao = pd.crosstab(pns4.escolaridade, pns4.percepcao, normalize = 'index').round(3) * 100\n",
    "percepcao"
   ]
  },
  {
   "cell_type": "code",
   "execution_count": 12,
   "metadata": {},
   "outputs": [],
   "source": [
    "percepcao = percepcao.loc[['elementary school', 'high school'],:]"
   ]
  },
  {
   "cell_type": "code",
   "execution_count": 15,
   "metadata": {},
   "outputs": [
    {
     "data": {
      "image/png": "[encoded data removed]",
      "text/plain": [
       "<Figure size 432x288 with 1 Axes>"
      ]
     },
     "metadata": {
      "needs_background": "light"
     },
     "output_type": "display_data"
    }
   ],
   "source": [
    "percepcao.plot.barh(stacked=True)\n",
    "plt.legend(bbox_to_anchor=(1,1))\n",
    "plt.grid(False) # tira as linhas de grade\n",
    "sns.despine() # tira os eixos da parte de cima e da direita\n",
    "plt.ylabel('');\n",
    "plt.savefig('imagens-ingles/saude-escolaridade.jpg', bbox_inches = 'tight');"
   ]
  },
  {
   "cell_type": "markdown",
   "metadata": {},
   "source": [
    "### Sexo"
   ]
  },
  {
   "cell_type": "code",
   "execution_count": 16,
   "metadata": {},
   "outputs": [],
   "source": [
    "pns4['sexo'] = pns4.sexo.astype('category')\n",
    "pns4.sexo = pns4.sexo.cat.rename_categories(['male', 'female'])"
   ]
  },
  {
   "cell_type": "code",
   "execution_count": 17,
   "metadata": {},
   "outputs": [
    {
     "data": {
      "text/plain": [
       "(female    53.0\n",
       " male      47.0\n",
       " Name: sexo, dtype: float64, 2)"
      ]
     },
     "execution_count": 17,
     "metadata": {},
     "output_type": "execute_result"
    }
   ],
   "source": [
    "round(pns4.sexo.value_counts(normalize = True) * 100), 2"
   ]
  },
  {
   "cell_type": "markdown",
   "metadata": {},
   "source": [
    "#### Percepção de acordo com o sexo"
   ]
  },
  {
   "cell_type": "markdown",
   "metadata": {},
   "source": [
    "- deveríamos fazer o gráfico só com duas variáveis (bom e ruim) igual ao modelo de regressão?"
   ]
  },
  {
   "cell_type": "code",
   "execution_count": 50,
   "metadata": {},
   "outputs": [
    {
     "data": {
      "text/html": [
       "<div>\n",
       "<style scoped>\n",
       "    .dataframe tbody tr th:only-of-type {\n",
       "        vertical-align: middle;\n",
       "    }\n",
       "\n",
       "    .dataframe tbody tr th {\n",
       "        vertical-align: top;\n",
       "    }\n",
       "\n",
       "    .dataframe thead th {\n",
       "        text-align: right;\n",
       "    }\n",
       "</style>\n",
       "<table border=\"1\" class=\"dataframe\">\n",
       "  <thead>\n",
       "    <tr style=\"text-align: right;\">\n",
       "      <th>percepcao</th>\n",
       "      <th>very good</th>\n",
       "      <th>good</th>\n",
       "      <th>regular</th>\n",
       "      <th>bad</th>\n",
       "      <th>very bad</th>\n",
       "    </tr>\n",
       "    <tr>\n",
       "      <th>sexo</th>\n",
       "      <th></th>\n",
       "      <th></th>\n",
       "      <th></th>\n",
       "      <th></th>\n",
       "      <th></th>\n",
       "    </tr>\n",
       "  </thead>\n",
       "  <tbody>\n",
       "    <tr>\n",
       "      <th>female</th>\n",
       "      <td>11.1</td>\n",
       "      <td>60.6</td>\n",
       "      <td>24.5</td>\n",
       "      <td>3.1</td>\n",
       "      <td>0.6</td>\n",
       "    </tr>\n",
       "    <tr>\n",
       "      <th>male</th>\n",
       "      <td>13.7</td>\n",
       "      <td>64.4</td>\n",
       "      <td>19.4</td>\n",
       "      <td>2.2</td>\n",
       "      <td>0.4</td>\n",
       "    </tr>\n",
       "  </tbody>\n",
       "</table>\n",
       "</div>"
      ],
      "text/plain": [
       "percepcao  very good  good  regular  bad  very bad\n",
       "sexo                                              \n",
       "female          11.1  60.6     24.5  3.1       0.6\n",
       "male            13.7  64.4     19.4  2.2       0.4"
      ]
     },
     "execution_count": 50,
     "metadata": {},
     "output_type": "execute_result"
    }
   ],
   "source": [
    "sexo = pd.crosstab(pns4.sexo, pns4.percepcao, normalize = 'index').round(3) * 100\n",
    "sexo2 = sexo.reindex(['female', 'male'])\n",
    "sexo2"
   ]
  },
  {
   "cell_type": "code",
   "execution_count": 51,
   "metadata": {},
   "outputs": [
    {
     "data": {
      "image/png": "[encoded data removed]",
      "text/plain": [
       "<Figure size 432x288 with 1 Axes>"
      ]
     },
     "metadata": {
      "needs_background": "light"
     },
     "output_type": "display_data"
    }
   ],
   "source": [
    "sexo2.plot.barh(stacked=True)\n",
    "plt.legend(bbox_to_anchor=(1,1))\n",
    "plt.grid(False) # tira as linhas de grade\n",
    "sns.despine() # tira os eixos da parte de cima e da direita\n",
    "plt.ylabel('')\n",
    "plt.savefig('imagens-ingles/saude-sexo.png', bbox_inches='tight');"
   ]
  },
  {
   "cell_type": "markdown",
   "metadata": {},
   "source": [
    "### Escolaridade"
   ]
  },
  {
   "cell_type": "code",
   "execution_count": 20,
   "metadata": {},
   "outputs": [
    {
     "data": {
      "text/plain": [
       "high school          75.210634\n",
       "elementary school    24.789366\n",
       "Name: escolaridade, dtype: float64"
      ]
     },
     "execution_count": 20,
     "metadata": {},
     "output_type": "execute_result"
    }
   ],
   "source": [
    "pns4.escolaridade.value_counts(normalize = True) * 100"
   ]
  },
  {
   "cell_type": "code",
   "execution_count": 21,
   "metadata": {},
   "outputs": [
    {
     "data": {
      "text/html": [
       "<div>\n",
       "<style scoped>\n",
       "    .dataframe tbody tr th:only-of-type {\n",
       "        vertical-align: middle;\n",
       "    }\n",
       "\n",
       "    .dataframe tbody tr th {\n",
       "        vertical-align: top;\n",
       "    }\n",
       "\n",
       "    .dataframe thead th {\n",
       "        text-align: right;\n",
       "    }\n",
       "</style>\n",
       "<table border=\"1\" class=\"dataframe\">\n",
       "  <thead>\n",
       "    <tr style=\"text-align: right;\">\n",
       "      <th>escolaridade</th>\n",
       "      <th>elementary school</th>\n",
       "      <th>high school</th>\n",
       "    </tr>\n",
       "    <tr>\n",
       "      <th>percepcao</th>\n",
       "      <th></th>\n",
       "      <th></th>\n",
       "    </tr>\n",
       "  </thead>\n",
       "  <tbody>\n",
       "    <tr>\n",
       "      <th>very good</th>\n",
       "      <td>19.0</td>\n",
       "      <td>81.0</td>\n",
       "    </tr>\n",
       "    <tr>\n",
       "      <th>good</th>\n",
       "      <td>23.0</td>\n",
       "      <td>77.0</td>\n",
       "    </tr>\n",
       "    <tr>\n",
       "      <th>regular</th>\n",
       "      <td>32.0</td>\n",
       "      <td>68.0</td>\n",
       "    </tr>\n",
       "    <tr>\n",
       "      <th>bad</th>\n",
       "      <td>39.0</td>\n",
       "      <td>61.0</td>\n",
       "    </tr>\n",
       "    <tr>\n",
       "      <th>very bad</th>\n",
       "      <td>40.0</td>\n",
       "      <td>60.0</td>\n",
       "    </tr>\n",
       "  </tbody>\n",
       "</table>\n",
       "</div>"
      ],
      "text/plain": [
       "escolaridade  elementary school  high school\n",
       "percepcao                                   \n",
       "very good                  19.0         81.0\n",
       "good                       23.0         77.0\n",
       "regular                    32.0         68.0\n",
       "bad                        39.0         61.0\n",
       "very bad                   40.0         60.0"
      ]
     },
     "execution_count": 21,
     "metadata": {},
     "output_type": "execute_result"
    }
   ],
   "source": [
    "escolaridade = pd.crosstab(pns4.percepcao, pns4.escolaridade, normalize = 'index').round(2) * 100\n",
    "escolaridade"
   ]
  },
  {
   "cell_type": "code",
   "execution_count": 22,
   "metadata": {},
   "outputs": [
    {
     "data": {
      "text/html": [
       "<div>\n",
       "<style scoped>\n",
       "    .dataframe tbody tr th:only-of-type {\n",
       "        vertical-align: middle;\n",
       "    }\n",
       "\n",
       "    .dataframe tbody tr th {\n",
       "        vertical-align: top;\n",
       "    }\n",
       "\n",
       "    .dataframe thead th {\n",
       "        text-align: right;\n",
       "    }\n",
       "</style>\n",
       "<table border=\"1\" class=\"dataframe\">\n",
       "  <thead>\n",
       "    <tr style=\"text-align: right;\">\n",
       "      <th>percepcao</th>\n",
       "      <th>very good</th>\n",
       "      <th>good</th>\n",
       "      <th>regular</th>\n",
       "      <th>bad</th>\n",
       "      <th>very bad</th>\n",
       "    </tr>\n",
       "    <tr>\n",
       "      <th>escolaridade</th>\n",
       "      <th></th>\n",
       "      <th></th>\n",
       "      <th></th>\n",
       "      <th></th>\n",
       "      <th></th>\n",
       "    </tr>\n",
       "  </thead>\n",
       "  <tbody>\n",
       "    <tr>\n",
       "      <th>elementary school</th>\n",
       "      <td>9.0</td>\n",
       "      <td>57.0</td>\n",
       "      <td>28.0</td>\n",
       "      <td>4.0</td>\n",
       "      <td>1.0</td>\n",
       "    </tr>\n",
       "    <tr>\n",
       "      <th>high school</th>\n",
       "      <td>13.0</td>\n",
       "      <td>64.0</td>\n",
       "      <td>20.0</td>\n",
       "      <td>2.0</td>\n",
       "      <td>0.0</td>\n",
       "    </tr>\n",
       "  </tbody>\n",
       "</table>\n",
       "</div>"
      ],
      "text/plain": [
       "percepcao          very good  good  regular  bad  very bad\n",
       "escolaridade                                              \n",
       "elementary school        9.0  57.0     28.0  4.0       1.0\n",
       "high school             13.0  64.0     20.0  2.0       0.0"
      ]
     },
     "execution_count": 22,
     "metadata": {},
     "output_type": "execute_result"
    }
   ],
   "source": [
    "escolaridade2 = pd.crosstab(pns4.escolaridade, pns4.percepcao, normalize = 'index').round(2) * 100\n",
    "escolaridade2"
   ]
  },
  {
   "cell_type": "code",
   "execution_count": 18,
   "metadata": {},
   "outputs": [],
   "source": [
    "escolaridade = escolaridade.loc[['muito bom', 'bom', 'regular', 'ruim', 'muito ruim'],:]"
   ]
  },
  {
   "cell_type": "markdown",
   "metadata": {},
   "source": [
    "- Havíamos pensado em usar esse gráfico, mas não faz sentido."
   ]
  },
  {
   "cell_type": "code",
   "execution_count": 19,
   "metadata": {},
   "outputs": [
    {
     "data": {
      "image/png": "[encoded data removed]",
      "text/plain": [
       "<Figure size 432x288 with 1 Axes>"
      ]
     },
     "metadata": {},
     "output_type": "display_data"
    }
   ],
   "source": [
    "escolaridade.plot.barh(stacked=True)\n",
    "plt.legend(bbox_to_anchor=(1,1))\n",
    "plt.grid(False) # tira as linhas de grade\n",
    "sns.despine() # tira os eixos da parte de cima e da direita\n",
    "plt.ylabel('');"
   ]
  },
  {
   "cell_type": "markdown",
   "metadata": {},
   "source": [
    "### Tabela descritiva"
   ]
  },
  {
   "cell_type": "code",
   "execution_count": 20,
   "metadata": {},
   "outputs": [
    {
     "name": "stderr",
     "output_type": "stream",
     "text": [
      "C:\\Users\\ledag\\Anaconda3\\lib\\site-packages\\pandas\\core\\indexes\\api.py:107: RuntimeWarning: '<' not supported between instances of 'str' and 'int', sort order is undefined for incomparable objects\n",
      "  result = result.union(other)\n"
     ]
    },
    {
     "data": {
      "text/html": [
       "<div>\n",
       "<style scoped>\n",
       "    .dataframe tbody tr th:only-of-type {\n",
       "        vertical-align: middle;\n",
       "    }\n",
       "\n",
       "    .dataframe tbody tr th {\n",
       "        vertical-align: top;\n",
       "    }\n",
       "\n",
       "    .dataframe thead th {\n",
       "        text-align: right;\n",
       "    }\n",
       "</style>\n",
       "<table border=\"1\" class=\"dataframe\">\n",
       "  <thead>\n",
       "    <tr style=\"text-align: right;\">\n",
       "      <th></th>\n",
       "      <th></th>\n",
       "      <th>Ensino fundamental</th>\n",
       "      <th>Ensino médio</th>\n",
       "    </tr>\n",
       "  </thead>\n",
       "  <tbody>\n",
       "    <tr>\n",
       "      <th rowspan=\"2\" valign=\"top\">Sexo</th>\n",
       "      <th>masculino</th>\n",
       "      <td>50.0</td>\n",
       "      <td>46.0</td>\n",
       "    </tr>\n",
       "    <tr>\n",
       "      <th>feminino</th>\n",
       "      <td>50.0</td>\n",
       "      <td>54.0</td>\n",
       "    </tr>\n",
       "    <tr>\n",
       "      <th rowspan=\"6\" valign=\"top\">Idade</th>\n",
       "      <th>0</th>\n",
       "      <td>NaN</td>\n",
       "      <td>NaN</td>\n",
       "    </tr>\n",
       "    <tr>\n",
       "      <th>média</th>\n",
       "      <td>41.4</td>\n",
       "      <td>37.1</td>\n",
       "    </tr>\n",
       "    <tr>\n",
       "      <th>desvio padrão</th>\n",
       "      <td>15.5</td>\n",
       "      <td>13.9</td>\n",
       "    </tr>\n",
       "    <tr>\n",
       "      <th>mínimo</th>\n",
       "      <td>18.0</td>\n",
       "      <td>18.0</td>\n",
       "    </tr>\n",
       "    <tr>\n",
       "      <th>mediana</th>\n",
       "      <td>40.0</td>\n",
       "      <td>34.0</td>\n",
       "    </tr>\n",
       "    <tr>\n",
       "      <th>máximo</th>\n",
       "      <td>99.0</td>\n",
       "      <td>105.0</td>\n",
       "    </tr>\n",
       "    <tr>\n",
       "      <th rowspan=\"5\" valign=\"top\">Rendimento</th>\n",
       "      <th>média</th>\n",
       "      <td>1169.0</td>\n",
       "      <td>1405.0</td>\n",
       "    </tr>\n",
       "    <tr>\n",
       "      <th>desvio padrão</th>\n",
       "      <td>1786.0</td>\n",
       "      <td>1814.0</td>\n",
       "    </tr>\n",
       "    <tr>\n",
       "      <th>mínimo</th>\n",
       "      <td>10.0</td>\n",
       "      <td>20.0</td>\n",
       "    </tr>\n",
       "    <tr>\n",
       "      <th>mediana</th>\n",
       "      <td>850.0</td>\n",
       "      <td>1000.0</td>\n",
       "    </tr>\n",
       "    <tr>\n",
       "      <th>máximo</th>\n",
       "      <td>100000.0</td>\n",
       "      <td>130000.0</td>\n",
       "    </tr>\n",
       "    <tr>\n",
       "      <th rowspan=\"5\" valign=\"top\">Percepção</th>\n",
       "      <th>muito bom</th>\n",
       "      <td>9.2</td>\n",
       "      <td>13.3</td>\n",
       "    </tr>\n",
       "    <tr>\n",
       "      <th>bom</th>\n",
       "      <td>57.3</td>\n",
       "      <td>64.0</td>\n",
       "    </tr>\n",
       "    <tr>\n",
       "      <th>regular</th>\n",
       "      <td>28.4</td>\n",
       "      <td>20.0</td>\n",
       "    </tr>\n",
       "    <tr>\n",
       "      <th>ruim</th>\n",
       "      <td>4.2</td>\n",
       "      <td>2.2</td>\n",
       "    </tr>\n",
       "    <tr>\n",
       "      <th>muito ruim</th>\n",
       "      <td>0.9</td>\n",
       "      <td>0.4</td>\n",
       "    </tr>\n",
       "  </tbody>\n",
       "</table>\n",
       "</div>"
      ],
      "text/plain": [
       "                          Ensino fundamental  Ensino médio\n",
       "Sexo       masculino                    50.0          46.0\n",
       "           feminino                     50.0          54.0\n",
       "Idade      0                             NaN           NaN\n",
       "           média                        41.4          37.1\n",
       "           desvio padrão                15.5          13.9\n",
       "           mínimo                       18.0          18.0\n",
       "           mediana                      40.0          34.0\n",
       "           máximo                       99.0         105.0\n",
       "Rendimento média                      1169.0        1405.0\n",
       "           desvio padrão              1786.0        1814.0\n",
       "           mínimo                       10.0          20.0\n",
       "           mediana                     850.0        1000.0\n",
       "           máximo                   100000.0      130000.0\n",
       "Percepção  muito bom                     9.2          13.3\n",
       "           bom                          57.3          64.0\n",
       "           regular                      28.4          20.0\n",
       "           ruim                          4.2           2.2\n",
       "           muito ruim                    0.9           0.4"
      ]
     },
     "execution_count": 20,
     "metadata": {},
     "output_type": "execute_result"
    }
   ],
   "source": [
    "rendimento = (pns4.groupby('escolaridade').rendimento.describe(percentiles=[.5]).astype(int).T.iloc[1:, :])\n",
    "rendimento.index = ['média', 'desvio padrão', 'mínimo', 'mediana', 'máximo']\n",
    "\n",
    "idade = pns4.groupby('escolaridade').idade.describe(percentiles=[.5]).round(1).T.iloc[1:, :]\n",
    "idade.index = ['média', 'desvio padrão', 'mínimo', 'mediana', 'máximo']\n",
    "idade = pd.concat([linha_vazia, idade])\n",
    "\n",
    "sexo = pd.crosstab(pns4.sexo, pns4.escolaridade, normalize='columns').round(2) * 100\n",
    "sexo = pd.concat([linha_vazia, sexo])\n",
    "sexo = sexo.loc[['masculino', 'feminino']]\n",
    "\n",
    "percepcao = pd.crosstab(pns4.percepcao, pns4.escolaridade, normalize='columns').round(3) * 100\n",
    "percepcao = pd.concat([linha_vazia, percepcao])\n",
    "percepcao = percepcao.loc[['muito bom', 'bom', 'regular', 'ruim', 'muito ruim']]\n",
    "percepcao\n",
    "\n",
    "resumo1 = (pd.concat([sexo, idade, rendimento, percepcao], \n",
    "                    keys=['Sexo', 'Idade', 'Rendimento', 'Percepção'])\n",
    "                   .drop(0, axis=1))\n",
    "resumo1.columns = ['Ensino fundamental', 'Ensino médio']\n",
    "resumo1"
   ]
  },
  {
   "cell_type": "code",
   "execution_count": 21,
   "metadata": {},
   "outputs": [],
   "source": [
    "# planilha = pd.ExcelWriter('artigo2.xlsx') \n",
    "# resumo1.to_excel(planilha, sheet_name='resumo1')\n",
    "# planilha.save()"
   ]
  },
  {
   "cell_type": "markdown",
   "metadata": {},
   "source": [
    "### Rendimento e percepção por sexo"
   ]
  },
  {
   "cell_type": "code",
   "execution_count": 26,
   "metadata": {},
   "outputs": [
    {
     "data": {
      "image/png": "[encoded data removed]",
      "text/plain": [
       "<Figure size 792x720 with 1 Axes>"
      ]
     },
     "metadata": {
      "needs_background": "light"
     },
     "output_type": "display_data"
    }
   ],
   "source": [
    "plt.figure(figsize=(11, 10))\n",
    "sns.boxplot('rendimento', 'percepcao', hue='escolaridade', color = 'gray',\n",
    "            data=pns4.query('rendimento < 7000'))\n",
    "plt.xlabel('income', labelpad = 20)\n",
    "plt.legend(bbox_to_anchor=(1,1))\n",
    "plt.ylabel('')\n",
    "plt.savefig('imagens-ingles/boxplot.png', bbox_inches='tight');"
   ]
  },
  {
   "cell_type": "code",
   "execution_count": null,
   "metadata": {},
   "outputs": [],
   "source": []
  }
 ],
 "metadata": {
  "kernelspec": {
   "display_name": "Python 3",
   "language": "python",
   "name": "python3"
  },
  "language_info": {
   "codemirror_mode": {
    "name": "ipython",
    "version": 3
   },
   "file_extension": ".py",
   "mimetype": "text/x-python",
   "name": "python",
   "nbconvert_exporter": "python",
   "pygments_lexer": "ipython3",
   "version": "3.6.7"
  }
 },
 "nbformat": 4,
 "nbformat_minor": 2
}
