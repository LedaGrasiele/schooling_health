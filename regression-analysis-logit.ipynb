{
 "cells": [
  {
   "cell_type": "code",
   "execution_count": 1,
   "metadata": {},
   "outputs": [],
   "source": [
    "%matplotlib inline\n",
    "import pandas as pd\n",
    "import numpy as np\n",
    "import matplotlib.pyplot as plt\n",
    "import statsmodels.formula.api as smf\n",
    "import statsmodels.api as sms\n",
    "from statsmodels.iolib.summary2 import summary_col\n",
    "plt.style.use('seaborn-whitegrid')\n",
    "\n",
    "pd.options.mode.chained_assignment = None"
   ]
  },
  {
   "cell_type": "code",
   "execution_count": 2,
   "metadata": {},
   "outputs": [
    {
     "name": "stdout",
     "output_type": "stream",
     "text": [
      " início:  205546 \n",
      " idade > 17:  145580 \n",
      " não frequenta a escola:  129926 \n",
      " fundamental ou médio:  51155 \n",
      " rendimento > 0:  34479\n"
     ]
    }
   ],
   "source": [
    "pns1 = pd.read_csv('dados/pns.csv') # pns 2013\n",
    "pns2 = pns1.query('idade > 17') # incluir apenas quem já poderia ter concluído o ensino médio\n",
    "pns3 = pns2.query('freq_esc == 2') # apenas quem não frequenta mais a escola\n",
    "pns4 = pns3.query('escolaridade == [3, 5]') # apenas os dois níveis de escolaridade\n",
    "linha_vazia = pd.DataFrame([np.nan]).T\n",
    "pns5 = pns4.query('rendimento > 0') # rendimento maior do que 0\n",
    "\n",
    "print(' início: ', pns1.shape[0], '\\n',\n",
    "      'idade > 17: ', pns2.shape[0], '\\n',\n",
    "      'não frequenta a escola: ', pns3.shape[0], '\\n',\n",
    "      'fundamental ou médio: ', pns4.shape[0], '\\n',\n",
    "      'rendimento > 0: ', pns5.shape[0])"
   ]
  },
  {
   "cell_type": "code",
   "execution_count": 4,
   "metadata": {},
   "outputs": [],
   "source": [
    "pns = pns4"
   ]
  },
  {
   "cell_type": "code",
   "execution_count": null,
   "metadata": {},
   "outputs": [],
   "source": [
    "pns['saude'] = (pns.percepcao <= 2).astype(int) # 1 a 2 = bom, 3 a 5 = ruim \n",
    "pns.doenca_diag = pns.doenca_diag.astype(int).replace(2, 0) # 0 = não, 1 = sim\n",
    "pns.doenca_hipertensao = pns.doenca_hipertensao.replace([3, 2], [0, np.nan]) # 0 = não, 1 = sim\n",
    "pns.plano = pns.plano.astype(int).replace(2, 0) # 0 = não, 1 = sim\n",
    "pns.sexo = pns.sexo.astype(int).replace(2, 0) # 0 = feminino, 1 = masculino (REVER)\n",
    "pns.fuma = pns.fuma.replace([3, 2], [0, np.nan]) # 0 = não, 1 = sim \n",
    "pns.exercicio_3meses = pns.exercicio_3meses.replace(2, 0) # 0 = não, 1 = sim\n",
    "pns.escolaridade = pns.escolaridade.replace([3,5], [0,1]) # 0 = fundamental, 1 = médio\n",
    "\n",
    "# renomeei apenas aqui. É melhor renomear no arquivo original?\n",
    "pns['fumante'] = pns.fuma\n",
    "pns['consulta'] = pns.quantidade_consulta_medico\n",
    "pns['exercicio'] = pns.exercicio_3meses\n",
    "\n",
    "# podemos dividir o rendimento por 100 para melhorar a interpretação?\n",
    "pns['rendimento'] = pns.rendimento/100 "
   ]
  },
  {
   "cell_type": "markdown",
   "metadata": {},
   "source": [
    "### **Modelo 1**"
   ]
  },
  {
   "cell_type": "code",
   "execution_count": 6,
   "metadata": {},
   "outputs": [
    {
     "name": "stdout",
     "output_type": "stream",
     "text": [
      "Optimization terminated successfully.\n",
      "         Current function value: 0.538338\n",
      "         Iterations 5\n"
     ]
    },
    {
     "data": {
      "text/html": [
       "<table class=\"simpletable\">\n",
       "<caption>Logit Regression Results</caption>\n",
       "<tr>\n",
       "  <th>Dep. Variable:</th>       <td>saude</td>      <th>  No. Observations:  </th>  <td> 51155</td> \n",
       "</tr>\n",
       "<tr>\n",
       "  <th>Model:</th>               <td>Logit</td>      <th>  Df Residuals:      </th>  <td> 51151</td> \n",
       "</tr>\n",
       "<tr>\n",
       "  <th>Method:</th>               <td>MLE</td>       <th>  Df Model:          </th>  <td>     3</td> \n",
       "</tr>\n",
       "<tr>\n",
       "  <th>Date:</th>          <td>Mon, 18 Mar 2019</td> <th>  Pseudo R-squ.:     </th>  <td>0.04849</td>\n",
       "</tr>\n",
       "<tr>\n",
       "  <th>Time:</th>              <td>14:50:20</td>     <th>  Log-Likelihood:    </th> <td> -27539.</td>\n",
       "</tr>\n",
       "<tr>\n",
       "  <th>converged:</th>           <td>True</td>       <th>  LL-Null:           </th> <td> -28942.</td>\n",
       "</tr>\n",
       "<tr>\n",
       "  <th> </th>                      <td> </td>        <th>  LLR p-value:       </th>  <td> 0.000</td> \n",
       "</tr>\n",
       "</table>\n",
       "<table class=\"simpletable\">\n",
       "<tr>\n",
       "        <td></td>          <th>coef</th>     <th>std err</th>      <th>z</th>      <th>P>|z|</th>  <th>[0.025</th>    <th>0.975]</th>  \n",
       "</tr>\n",
       "<tr>\n",
       "  <th>Intercept</th>    <td>    1.8379</td> <td>    0.038</td> <td>   48.640</td> <td> 0.000</td> <td>    1.764</td> <td>    1.912</td>\n",
       "</tr>\n",
       "<tr>\n",
       "  <th>escolaridade</th> <td>    0.4363</td> <td>    0.023</td> <td>   18.803</td> <td> 0.000</td> <td>    0.391</td> <td>    0.482</td>\n",
       "</tr>\n",
       "<tr>\n",
       "  <th>sexo</th>         <td>    0.3351</td> <td>    0.021</td> <td>   15.814</td> <td> 0.000</td> <td>    0.294</td> <td>    0.377</td>\n",
       "</tr>\n",
       "<tr>\n",
       "  <th>idade</th>        <td>   -0.0308</td> <td>    0.001</td> <td>  -43.566</td> <td> 0.000</td> <td>   -0.032</td> <td>   -0.029</td>\n",
       "</tr>\n",
       "</table>"
      ],
      "text/plain": [
       "<class 'statsmodels.iolib.summary.Summary'>\n",
       "\"\"\"\n",
       "                           Logit Regression Results                           \n",
       "==============================================================================\n",
       "Dep. Variable:                  saude   No. Observations:                51155\n",
       "Model:                          Logit   Df Residuals:                    51151\n",
       "Method:                           MLE   Df Model:                            3\n",
       "Date:                Mon, 18 Mar 2019   Pseudo R-squ.:                 0.04849\n",
       "Time:                        14:50:20   Log-Likelihood:                -27539.\n",
       "converged:                       True   LL-Null:                       -28942.\n",
       "                                        LLR p-value:                     0.000\n",
       "================================================================================\n",
       "                   coef    std err          z      P>|z|      [0.025      0.975]\n",
       "--------------------------------------------------------------------------------\n",
       "Intercept        1.8379      0.038     48.640      0.000       1.764       1.912\n",
       "escolaridade     0.4363      0.023     18.803      0.000       0.391       0.482\n",
       "sexo             0.3351      0.021     15.814      0.000       0.294       0.377\n",
       "idade           -0.0308      0.001    -43.566      0.000      -0.032      -0.029\n",
       "================================================================================\n",
       "\"\"\""
      ]
     },
     "execution_count": 6,
     "metadata": {},
     "output_type": "execute_result"
    }
   ],
   "source": [
    "modelo1 = smf.logit('saude ~ escolaridade + sexo + idade', data=pns).fit()\n",
    "modelo1.summary()"
   ]
  },
  {
   "cell_type": "code",
   "execution_count": 7,
   "metadata": {},
   "outputs": [
    {
     "data": {
      "text/plain": [
       "Intercept       6.283112\n",
       "escolaridade    1.546914\n",
       "sexo            1.398133\n",
       "idade           0.969634\n",
       "dtype: float64"
      ]
     },
     "execution_count": 7,
     "metadata": {},
     "output_type": "execute_result"
    }
   ],
   "source": [
    "np.exp(modelo1.params)"
   ]
  },
  {
   "cell_type": "markdown",
   "metadata": {},
   "source": [
    "- possuir ensino médio aumenta em 55% ((1,55 - 1)) * 100) a chance de o indivíduo se considerar saudável.\n",
    "- a chance de os homens se considerarem saudáveis é 39% maior em comparação às mulheres.\n",
    "- um ano a mais de idade diminui em 4% ((0.96 - 1) * 100) a chance de o indivíduo se considerar saudável."
   ]
  },
  {
   "cell_type": "markdown",
   "metadata": {},
   "source": [
    "### **Modelo 2**"
   ]
  },
  {
   "cell_type": "code",
   "execution_count": 10,
   "metadata": {},
   "outputs": [
    {
     "name": "stdout",
     "output_type": "stream",
     "text": [
      "Optimization terminated successfully.\n",
      "         Current function value: 0.501748\n",
      "         Iterations 6\n"
     ]
    },
    {
     "data": {
      "text/html": [
       "<table class=\"simpletable\">\n",
       "<caption>Logit Regression Results</caption>\n",
       "<tr>\n",
       "  <th>Dep. Variable:</th>       <td>saude</td>      <th>  No. Observations:  </th>  <td> 34479</td> \n",
       "</tr>\n",
       "<tr>\n",
       "  <th>Model:</th>               <td>Logit</td>      <th>  Df Residuals:      </th>  <td> 34474</td> \n",
       "</tr>\n",
       "<tr>\n",
       "  <th>Method:</th>               <td>MLE</td>       <th>  Df Model:          </th>  <td>     4</td> \n",
       "</tr>\n",
       "<tr>\n",
       "  <th>Date:</th>          <td>Mon, 18 Mar 2019</td> <th>  Pseudo R-squ.:     </th>  <td>0.04405</td>\n",
       "</tr>\n",
       "<tr>\n",
       "  <th>Time:</th>              <td>14:50:49</td>     <th>  Log-Likelihood:    </th> <td> -17300.</td>\n",
       "</tr>\n",
       "<tr>\n",
       "  <th>converged:</th>           <td>True</td>       <th>  LL-Null:           </th> <td> -18097.</td>\n",
       "</tr>\n",
       "<tr>\n",
       "  <th> </th>                      <td> </td>        <th>  LLR p-value:       </th>  <td> 0.000</td> \n",
       "</tr>\n",
       "</table>\n",
       "<table class=\"simpletable\">\n",
       "<tr>\n",
       "        <td></td>          <th>coef</th>     <th>std err</th>      <th>z</th>      <th>P>|z|</th>  <th>[0.025</th>    <th>0.975]</th>  \n",
       "</tr>\n",
       "<tr>\n",
       "  <th>Intercept</th>    <td>    1.9869</td> <td>    0.054</td> <td>   36.548</td> <td> 0.000</td> <td>    1.880</td> <td>    2.093</td>\n",
       "</tr>\n",
       "<tr>\n",
       "  <th>escolaridade</th> <td>    0.3904</td> <td>    0.030</td> <td>   12.850</td> <td> 0.000</td> <td>    0.331</td> <td>    0.450</td>\n",
       "</tr>\n",
       "<tr>\n",
       "  <th>sexo</th>         <td>    0.2575</td> <td>    0.028</td> <td>    9.320</td> <td> 0.000</td> <td>    0.203</td> <td>    0.312</td>\n",
       "</tr>\n",
       "<tr>\n",
       "  <th>idade</th>        <td>   -0.0367</td> <td>    0.001</td> <td>  -32.003</td> <td> 0.000</td> <td>   -0.039</td> <td>   -0.034</td>\n",
       "</tr>\n",
       "<tr>\n",
       "  <th>rendimento</th>   <td>    0.0193</td> <td>    0.001</td> <td>   13.725</td> <td> 0.000</td> <td>    0.017</td> <td>    0.022</td>\n",
       "</tr>\n",
       "</table>"
      ],
      "text/plain": [
       "<class 'statsmodels.iolib.summary.Summary'>\n",
       "\"\"\"\n",
       "                           Logit Regression Results                           \n",
       "==============================================================================\n",
       "Dep. Variable:                  saude   No. Observations:                34479\n",
       "Model:                          Logit   Df Residuals:                    34474\n",
       "Method:                           MLE   Df Model:                            4\n",
       "Date:                Mon, 18 Mar 2019   Pseudo R-squ.:                 0.04405\n",
       "Time:                        14:50:49   Log-Likelihood:                -17300.\n",
       "converged:                       True   LL-Null:                       -18097.\n",
       "                                        LLR p-value:                     0.000\n",
       "================================================================================\n",
       "                   coef    std err          z      P>|z|      [0.025      0.975]\n",
       "--------------------------------------------------------------------------------\n",
       "Intercept        1.9869      0.054     36.548      0.000       1.880       2.093\n",
       "escolaridade     0.3904      0.030     12.850      0.000       0.331       0.450\n",
       "sexo             0.2575      0.028      9.320      0.000       0.203       0.312\n",
       "idade           -0.0367      0.001    -32.003      0.000      -0.039      -0.034\n",
       "rendimento       0.0193      0.001     13.725      0.000       0.017       0.022\n",
       "================================================================================\n",
       "\"\"\""
      ]
     },
     "execution_count": 10,
     "metadata": {},
     "output_type": "execute_result"
    }
   ],
   "source": [
    "modelo2 = smf.logit('saude ~ escolaridade + sexo + idade + rendimento', data=pns).fit()\n",
    "modelo2.summary()"
   ]
  },
  {
   "cell_type": "code",
   "execution_count": 11,
   "metadata": {},
   "outputs": [
    {
     "data": {
      "text/plain": [
       "Intercept       7.292530\n",
       "escolaridade    1.477557\n",
       "sexo            1.293717\n",
       "idade           0.963980\n",
       "rendimento      1.019476\n",
       "dtype: float64"
      ]
     },
     "execution_count": 11,
     "metadata": {},
     "output_type": "execute_result"
    }
   ],
   "source": [
    "np.exp(modelo2.params)"
   ]
  },
  {
   "cell_type": "markdown",
   "metadata": {},
   "source": [
    "- possuir ensino médio aumenta em 47% a chance de o indivíduo se considerar saudável\n",
    "- a chance de os homens se considerarem saudávies é 29% maior em comparação às mulheres.\n",
    "- cada ano a mais de idade diminui em 4% a chance de ser considerar saudável.\n",
    "- rendimento: cada 100,00 a mais no rendimento aumenta em 1,93% a chande de ao indivíduo se considerar saudável."
   ]
  },
  {
   "cell_type": "markdown",
   "metadata": {},
   "source": [
    "### **Modelo 3**"
   ]
  },
  {
   "cell_type": "code",
   "execution_count": 12,
   "metadata": {},
   "outputs": [
    {
     "name": "stdout",
     "output_type": "stream",
     "text": [
      "Optimization terminated successfully.\n",
      "         Current function value: 0.521064\n",
      "         Iterations 6\n"
     ]
    },
    {
     "data": {
      "text/html": [
       "<table class=\"simpletable\">\n",
       "<caption>Logit Regression Results</caption>\n",
       "<tr>\n",
       "  <th>Dep. Variable:</th>       <td>saude</td>      <th>  No. Observations:  </th>   <td>  9437</td>  \n",
       "</tr>\n",
       "<tr>\n",
       "  <th>Model:</th>               <td>Logit</td>      <th>  Df Residuals:      </th>   <td>  9428</td>  \n",
       "</tr>\n",
       "<tr>\n",
       "  <th>Method:</th>               <td>MLE</td>       <th>  Df Model:          </th>   <td>     8</td>  \n",
       "</tr>\n",
       "<tr>\n",
       "  <th>Date:</th>          <td>Mon, 18 Mar 2019</td> <th>  Pseudo R-squ.:     </th>   <td>0.09044</td> \n",
       "</tr>\n",
       "<tr>\n",
       "  <th>Time:</th>              <td>14:50:55</td>     <th>  Log-Likelihood:    </th>  <td> -4917.3</td> \n",
       "</tr>\n",
       "<tr>\n",
       "  <th>converged:</th>           <td>True</td>       <th>  LL-Null:           </th>  <td> -5406.2</td> \n",
       "</tr>\n",
       "<tr>\n",
       "  <th> </th>                      <td> </td>        <th>  LLR p-value:       </th> <td>8.660e-206</td>\n",
       "</tr>\n",
       "</table>\n",
       "<table class=\"simpletable\">\n",
       "<tr>\n",
       "        <td></td>          <th>coef</th>     <th>std err</th>      <th>z</th>      <th>P>|z|</th>  <th>[0.025</th>    <th>0.975]</th>  \n",
       "</tr>\n",
       "<tr>\n",
       "  <th>Intercept</th>    <td>    2.0641</td> <td>    0.105</td> <td>   19.700</td> <td> 0.000</td> <td>    1.859</td> <td>    2.269</td>\n",
       "</tr>\n",
       "<tr>\n",
       "  <th>escolaridade</th> <td>    0.3318</td> <td>    0.058</td> <td>    5.758</td> <td> 0.000</td> <td>    0.219</td> <td>    0.445</td>\n",
       "</tr>\n",
       "<tr>\n",
       "  <th>sexo</th>         <td>    0.1567</td> <td>    0.054</td> <td>    2.917</td> <td> 0.004</td> <td>    0.051</td> <td>    0.262</td>\n",
       "</tr>\n",
       "<tr>\n",
       "  <th>idade</th>        <td>   -0.0350</td> <td>    0.002</td> <td>  -16.318</td> <td> 0.000</td> <td>   -0.039</td> <td>   -0.031</td>\n",
       "</tr>\n",
       "<tr>\n",
       "  <th>rendimento</th>   <td>    0.0120</td> <td>    0.002</td> <td>    5.007</td> <td> 0.000</td> <td>    0.007</td> <td>    0.017</td>\n",
       "</tr>\n",
       "<tr>\n",
       "  <th>plano</th>        <td>    0.7335</td> <td>    0.058</td> <td>   12.579</td> <td> 0.000</td> <td>    0.619</td> <td>    0.848</td>\n",
       "</tr>\n",
       "<tr>\n",
       "  <th>fumante</th>      <td>   -0.1301</td> <td>    0.081</td> <td>   -1.608</td> <td> 0.108</td> <td>   -0.289</td> <td>    0.028</td>\n",
       "</tr>\n",
       "<tr>\n",
       "  <th>consulta</th>     <td>   -0.1189</td> <td>    0.007</td> <td>  -17.333</td> <td> 0.000</td> <td>   -0.132</td> <td>   -0.105</td>\n",
       "</tr>\n",
       "<tr>\n",
       "  <th>exercicio</th>    <td>    0.2625</td> <td>    0.055</td> <td>    4.785</td> <td> 0.000</td> <td>    0.155</td> <td>    0.370</td>\n",
       "</tr>\n",
       "</table>"
      ],
      "text/plain": [
       "<class 'statsmodels.iolib.summary.Summary'>\n",
       "\"\"\"\n",
       "                           Logit Regression Results                           \n",
       "==============================================================================\n",
       "Dep. Variable:                  saude   No. Observations:                 9437\n",
       "Model:                          Logit   Df Residuals:                     9428\n",
       "Method:                           MLE   Df Model:                            8\n",
       "Date:                Mon, 18 Mar 2019   Pseudo R-squ.:                 0.09044\n",
       "Time:                        14:50:55   Log-Likelihood:                -4917.3\n",
       "converged:                       True   LL-Null:                       -5406.2\n",
       "                                        LLR p-value:                8.660e-206\n",
       "================================================================================\n",
       "                   coef    std err          z      P>|z|      [0.025      0.975]\n",
       "--------------------------------------------------------------------------------\n",
       "Intercept        2.0641      0.105     19.700      0.000       1.859       2.269\n",
       "escolaridade     0.3318      0.058      5.758      0.000       0.219       0.445\n",
       "sexo             0.1567      0.054      2.917      0.004       0.051       0.262\n",
       "idade           -0.0350      0.002    -16.318      0.000      -0.039      -0.031\n",
       "rendimento       0.0120      0.002      5.007      0.000       0.007       0.017\n",
       "plano            0.7335      0.058     12.579      0.000       0.619       0.848\n",
       "fumante         -0.1301      0.081     -1.608      0.108      -0.289       0.028\n",
       "consulta        -0.1189      0.007    -17.333      0.000      -0.132      -0.105\n",
       "exercicio        0.2625      0.055      4.785      0.000       0.155       0.370\n",
       "================================================================================\n",
       "\"\"\""
      ]
     },
     "execution_count": 12,
     "metadata": {},
     "output_type": "execute_result"
    }
   ],
   "source": [
    "modelo3 = smf.logit('saude ~ escolaridade + sexo + idade + rendimento + plano + fumante + consulta + exercicio',\n",
    "          data=pns).fit()\n",
    "modelo3.summary()"
   ]
  },
  {
   "cell_type": "code",
   "execution_count": 13,
   "metadata": {},
   "outputs": [
    {
     "data": {
      "text/plain": [
       "Intercept       7.877870\n",
       "escolaridade    1.393495\n",
       "sexo            1.169688\n",
       "idade           0.965561\n",
       "rendimento      1.012073\n",
       "plano           2.082338\n",
       "fumante         0.878035\n",
       "consulta        0.887873\n",
       "exercicio       1.300166\n",
       "dtype: float64"
      ]
     },
     "execution_count": 13,
     "metadata": {},
     "output_type": "execute_result"
    }
   ],
   "source": [
    "np.exp(modelo3.params)"
   ]
  },
  {
   "cell_type": "markdown",
   "metadata": {},
   "source": [
    "- possuir o ensino médio aumenta em 39% a chance de o indivíduo se considerar saudável.\n",
    "- a chance de os homens se considerarem saudáveis é 17% maior em comparação às mulheres.\n",
    "- um ano a mais de idade diminui em 4% a chance de o indivíduo se considerar saudável.\n",
    "- cada 100 reais a mais aumenta em 1,21% a chance de se considerar saudável.\n",
    "- possuir um plano de saúde aumenta em 108% a chance de o indivíduo se considerar saudável.\n",
    "- uma consulta a mais no médico nos últimos 12 meses diminui em 11% a chance de o indivíduo se considerar saudável.\n",
    "- ter praticado algum exercício físico nos últimos 3 meses aumenta em 30% a chance de o indivíduo de considerar saudável."
   ]
  },
  {
   "cell_type": "markdown",
   "metadata": {},
   "source": [
    "### **Tabela**"
   ]
  },
  {
   "cell_type": "code",
   "execution_count": 12,
   "metadata": {},
   "outputs": [
    {
     "name": "stdout",
     "output_type": "stream",
     "text": [
      "Optimization terminated successfully.\n",
      "         Current function value: 0.538338\n",
      "         Iterations 5\n",
      "Optimization terminated successfully.\n",
      "         Current function value: 0.501748\n",
      "         Iterations 6\n",
      "Optimization terminated successfully.\n",
      "         Current function value: 0.521064\n",
      "         Iterations 6\n",
      "         Resultados das regressões\n",
      "============================================\n",
      "                  Modelo 1 Modelo 2 Modelo 3\n",
      "--------------------------------------------\n",
      "Intercept         1.84     1.99     2.06    \n",
      "                  (0.04)   (0.05)   (0.10)  \n",
      "escolaridade      0.44     0.39     0.33    \n",
      "                  (0.02)   (0.03)   (0.06)  \n",
      "mulher            0.34     0.26     0.16    \n",
      "                  (0.02)   (0.03)   (0.05)  \n",
      "idade             -0.03    -0.04    -0.04   \n",
      "                  (0.00)   (0.00)   (0.00)  \n",
      "rendimento                 0.02     0.01    \n",
      "                           (0.00)   (0.00)  \n",
      "plano                               0.73    \n",
      "                                    (0.06)  \n",
      "fumante                             -0.13   \n",
      "                                    (0.08)  \n",
      "consulta                            -0.12   \n",
      "                                    (0.01)  \n",
      "exercicio                           0.26    \n",
      "                                    (0.05)  \n",
      "Pseudo R-quadrado 0.05     0.04     0.09    \n",
      "Nº de observações 51155    34479    9437    \n",
      "============================================\n",
      "Standard errors in parentheses.\n"
     ]
    }
   ],
   "source": [
    "modelo1 = smf.logit('saude ~ escolaridade + sexo + idade', data=pns).fit()\n",
    "modelo2 = smf.logit('saude ~ escolaridade + sexo + idade + rendimento', data=pns).fit()\n",
    "modelo3 = smf.logit('saude ~ escolaridade + sexo + idade + rendimento + plano + fumante + consulta+ exercicio',\n",
    "          data=pns).fit()\n",
    "\n",
    "info_dict = {'Pseudo R-quadrado' : lambda x: \"{:.2f}\".format(x.prsquared),\n",
    "             'Nº de observações' : lambda x: \"{0:d}\".format(int(x.nobs))}\n",
    "\n",
    "tabela = summary_col(results = [modelo1, modelo2, modelo3],\n",
    "                            float_format='%0.2f',\n",
    "                            model_names=['Modelo 1', 'Modelo 2', 'Modelo 3'],\n",
    "                            info_dict=info_dict,\n",
    "                            regressor_order=['Intercept', 'escolaridade', 'sexo', 'idade',\n",
    "                                             'rendimento', 'plano', 'fumante', 'consulta',\n",
    "                                            'exercicio'])\n",
    "\n",
    "tabela.add_title('Resultados das regressões')\n",
    "\n",
    "print(tabela)"
   ]
  },
  {
   "cell_type": "code",
   "execution_count": 13,
   "metadata": {},
   "outputs": [
    {
     "data": {
      "text/plain": [
       "'<table border=\"1\" class=\"dataframe\">\\n  <thead>\\n    <tr style=\"text-align: right;\">\\n      <th></th>\\n      <th>Modelo 1</th>\\n      <th>exp1</th>\\n      <th>Modelo 2</th>\\n      <th>exp2</th>\\n      <th>Modelo 3</th>\\n      <th>exp3</th>\\n    </tr>\\n  </thead>\\n  <tbody>\\n    <tr>\\n      <th>Intercept</th>\\n      <td>1.84</td>\\n      <td>6.28311</td>\\n      <td>1.99</td>\\n      <td>7.29253</td>\\n      <td>2.06</td>\\n      <td>7.87787</td>\\n    </tr>\\n    <tr>\\n      <th></th>\\n      <td>(0.04)</td>\\n      <td></td>\\n      <td>(0.05)</td>\\n      <td></td>\\n      <td>(0.10)</td>\\n      <td></td>\\n    </tr>\\n    <tr>\\n      <th>escolaridade</th>\\n      <td>0.44</td>\\n      <td>1.54691</td>\\n      <td>0.39</td>\\n      <td>1.47756</td>\\n      <td>0.33</td>\\n      <td>1.3935</td>\\n    </tr>\\n    <tr>\\n      <th></th>\\n      <td>(0.02)</td>\\n      <td></td>\\n      <td>(0.03)</td>\\n      <td></td>\\n      <td>(0.06)</td>\\n      <td></td>\\n    </tr>\\n    <tr>\\n      <th>mulher</th>\\n      <td>0.34</td>\\n      <td>1.39813</td>\\n      <td>0.26</td>\\n      <td>1.29372</td>\\n      <td>0.16</td>\\n      <td>1.16969</td>\\n    </tr>\\n    <tr>\\n      <th></th>\\n      <td>(0.02)</td>\\n      <td></td>\\n      <td>(0.03)</td>\\n      <td></td>\\n      <td>(0.05)</td>\\n      <td></td>\\n    </tr>\\n    <tr>\\n      <th>idade</th>\\n      <td>-0.03</td>\\n      <td>0.969634</td>\\n      <td>-0.04</td>\\n      <td>0.96398</td>\\n      <td>-0.04</td>\\n      <td>0.965561</td>\\n    </tr>\\n    <tr>\\n      <th></th>\\n      <td>(0.00)</td>\\n      <td></td>\\n      <td>(0.00)</td>\\n      <td></td>\\n      <td>(0.00)</td>\\n      <td></td>\\n    </tr>\\n    <tr>\\n      <th>rendimento</th>\\n      <td></td>\\n      <td></td>\\n      <td>0.02</td>\\n      <td>1.01948</td>\\n      <td>0.01</td>\\n      <td>1.01207</td>\\n    </tr>\\n    <tr>\\n      <th></th>\\n      <td></td>\\n      <td></td>\\n      <td>(0.00)</td>\\n      <td></td>\\n      <td>(0.00)</td>\\n      <td></td>\\n    </tr>\\n    <tr>\\n      <th>plano</th>\\n      <td></td>\\n      <td></td>\\n      <td></td>\\n      <td></td>\\n      <td>0.73</td>\\n      <td>2.08234</td>\\n    </tr>\\n    <tr>\\n      <th></th>\\n      <td></td>\\n      <td></td>\\n      <td></td>\\n      <td></td>\\n      <td>(0.06)</td>\\n      <td></td>\\n    </tr>\\n    <tr>\\n      <th>fumante</th>\\n      <td></td>\\n      <td></td>\\n      <td></td>\\n      <td></td>\\n      <td>-0.13</td>\\n      <td>0.878035</td>\\n    </tr>\\n    <tr>\\n      <th></th>\\n      <td></td>\\n      <td></td>\\n      <td></td>\\n      <td></td>\\n      <td>(0.08)</td>\\n      <td></td>\\n    </tr>\\n    <tr>\\n      <th>consulta</th>\\n      <td></td>\\n      <td></td>\\n      <td></td>\\n      <td></td>\\n      <td>-0.12</td>\\n      <td>0.887873</td>\\n    </tr>\\n    <tr>\\n      <th></th>\\n      <td></td>\\n      <td></td>\\n      <td></td>\\n      <td></td>\\n      <td>(0.01)</td>\\n      <td></td>\\n    </tr>\\n    <tr>\\n      <th>exercicio</th>\\n      <td></td>\\n      <td></td>\\n      <td></td>\\n      <td></td>\\n      <td>0.26</td>\\n      <td>1.30017</td>\\n    </tr>\\n    <tr>\\n      <th></th>\\n      <td></td>\\n      <td></td>\\n      <td></td>\\n      <td></td>\\n      <td>(0.05)</td>\\n      <td></td>\\n    </tr>\\n    <tr>\\n      <th>Pseudo R-quadrado</th>\\n      <td>0.05</td>\\n      <td></td>\\n      <td>0.04</td>\\n      <td></td>\\n      <td>0.09</td>\\n      <td></td>\\n    </tr>\\n    <tr>\\n      <th>Nº de observações</th>\\n      <td>51155</td>\\n      <td></td>\\n      <td>34479</td>\\n      <td></td>\\n      <td>9437</td>\\n      <td></td>\\n    </tr>\\n  </tbody>\\n</table>'"
      ]
     },
     "execution_count": 13,
     "metadata": {},
     "output_type": "execute_result"
    }
   ],
   "source": [
    "b = tabela.tables[0]\n",
    "expmodelo1 = np.exp(modelo1.params)\n",
    "expmodelo2 = np.exp(modelo2.params)\n",
    "expmodelo3 = np.exp(modelo3.params)\n",
    "b['exp1'] = expmodelo1\n",
    "b['exp2'] = expmodelo2\n",
    "b['exp3'] = expmodelo3\n",
    "b = b.loc[:, ['Modelo 1', 'exp1', 'Modelo 2', 'exp2', 'Modelo 3', 'exp3']]\n",
    "b = b.replace(np.nan, '')\n",
    "b.to_html()"
   ]
  },
  {
   "cell_type": "markdown",
   "metadata": {},
   "source": [
    "### **Modelos com outras variáveis resposta**"
   ]
  },
  {
   "cell_type": "markdown",
   "metadata": {},
   "source": [
    "### **Modelo 4**"
   ]
  },
  {
   "cell_type": "code",
   "execution_count": 14,
   "metadata": {},
   "outputs": [
    {
     "name": "stdout",
     "output_type": "stream",
     "text": [
      "Optimization terminated successfully.\n",
      "         Current function value: 0.377381\n",
      "         Iterations 6\n"
     ]
    },
    {
     "data": {
      "text/html": [
       "<table class=\"simpletable\">\n",
       "<caption>Logit Regression Results</caption>\n",
       "<tr>\n",
       "  <th>Dep. Variable:</th>    <td>doenca_diag</td>   <th>  No. Observations:  </th>   <td>  9437</td>  \n",
       "</tr>\n",
       "<tr>\n",
       "  <th>Model:</th>               <td>Logit</td>      <th>  Df Residuals:      </th>   <td>  9428</td>  \n",
       "</tr>\n",
       "<tr>\n",
       "  <th>Method:</th>               <td>MLE</td>       <th>  Df Model:          </th>   <td>     8</td>  \n",
       "</tr>\n",
       "<tr>\n",
       "  <th>Date:</th>          <td>Mon, 18 Mar 2019</td> <th>  Pseudo R-squ.:     </th>   <td>0.09954</td> \n",
       "</tr>\n",
       "<tr>\n",
       "  <th>Time:</th>              <td>14:51:39</td>     <th>  Log-Likelihood:    </th>  <td> -3561.3</td> \n",
       "</tr>\n",
       "<tr>\n",
       "  <th>converged:</th>           <td>True</td>       <th>  LL-Null:           </th>  <td> -3955.0</td> \n",
       "</tr>\n",
       "<tr>\n",
       "  <th> </th>                      <td> </td>        <th>  LLR p-value:       </th> <td>1.075e-164</td>\n",
       "</tr>\n",
       "</table>\n",
       "<table class=\"simpletable\">\n",
       "<tr>\n",
       "               <td></td>                 <th>coef</th>     <th>std err</th>      <th>z</th>      <th>P>|z|</th>  <th>[0.025</th>    <th>0.975]</th>  \n",
       "</tr>\n",
       "<tr>\n",
       "  <th>Intercept</th>                  <td>   -4.2622</td> <td>    0.138</td> <td>  -30.838</td> <td> 0.000</td> <td>   -4.533</td> <td>   -3.991</td>\n",
       "</tr>\n",
       "<tr>\n",
       "  <th>escolaridade</th>               <td>   -0.0576</td> <td>    0.072</td> <td>   -0.797</td> <td> 0.426</td> <td>   -0.199</td> <td>    0.084</td>\n",
       "</tr>\n",
       "<tr>\n",
       "  <th>sexo</th>                       <td>   -0.2466</td> <td>    0.065</td> <td>   -3.796</td> <td> 0.000</td> <td>   -0.374</td> <td>   -0.119</td>\n",
       "</tr>\n",
       "<tr>\n",
       "  <th>idade</th>                      <td>    0.0566</td> <td>    0.003</td> <td>   21.774</td> <td> 0.000</td> <td>    0.051</td> <td>    0.062</td>\n",
       "</tr>\n",
       "<tr>\n",
       "  <th>rendimento</th>                 <td>   -0.0012</td> <td>    0.002</td> <td>   -0.759</td> <td> 0.448</td> <td>   -0.004</td> <td>    0.002</td>\n",
       "</tr>\n",
       "<tr>\n",
       "  <th>plano</th>                      <td>    0.0168</td> <td>    0.066</td> <td>    0.257</td> <td> 0.797</td> <td>   -0.112</td> <td>    0.145</td>\n",
       "</tr>\n",
       "<tr>\n",
       "  <th>fumante</th>                    <td>    0.0899</td> <td>    0.098</td> <td>    0.921</td> <td> 0.357</td> <td>   -0.101</td> <td>    0.281</td>\n",
       "</tr>\n",
       "<tr>\n",
       "  <th>quantidade_consulta_medico</th> <td>    0.0940</td> <td>    0.007</td> <td>   13.666</td> <td> 0.000</td> <td>    0.081</td> <td>    0.107</td>\n",
       "</tr>\n",
       "<tr>\n",
       "  <th>exercicio_3meses</th>           <td>   -0.0261</td> <td>    0.066</td> <td>   -0.396</td> <td> 0.692</td> <td>   -0.156</td> <td>    0.103</td>\n",
       "</tr>\n",
       "</table>"
      ],
      "text/plain": [
       "<class 'statsmodels.iolib.summary.Summary'>\n",
       "\"\"\"\n",
       "                           Logit Regression Results                           \n",
       "==============================================================================\n",
       "Dep. Variable:            doenca_diag   No. Observations:                 9437\n",
       "Model:                          Logit   Df Residuals:                     9428\n",
       "Method:                           MLE   Df Model:                            8\n",
       "Date:                Mon, 18 Mar 2019   Pseudo R-squ.:                 0.09954\n",
       "Time:                        14:51:39   Log-Likelihood:                -3561.3\n",
       "converged:                       True   LL-Null:                       -3955.0\n",
       "                                        LLR p-value:                1.075e-164\n",
       "==============================================================================================\n",
       "                                 coef    std err          z      P>|z|      [0.025      0.975]\n",
       "----------------------------------------------------------------------------------------------\n",
       "Intercept                     -4.2622      0.138    -30.838      0.000      -4.533      -3.991\n",
       "escolaridade                  -0.0576      0.072     -0.797      0.426      -0.199       0.084\n",
       "sexo                          -0.2466      0.065     -3.796      0.000      -0.374      -0.119\n",
       "idade                          0.0566      0.003     21.774      0.000       0.051       0.062\n",
       "rendimento                    -0.0012      0.002     -0.759      0.448      -0.004       0.002\n",
       "plano                          0.0168      0.066      0.257      0.797      -0.112       0.145\n",
       "fumante                        0.0899      0.098      0.921      0.357      -0.101       0.281\n",
       "quantidade_consulta_medico     0.0940      0.007     13.666      0.000       0.081       0.107\n",
       "exercicio_3meses              -0.0261      0.066     -0.396      0.692      -0.156       0.103\n",
       "==============================================================================================\n",
       "\"\"\""
      ]
     },
     "execution_count": 14,
     "metadata": {},
     "output_type": "execute_result"
    }
   ],
   "source": [
    "modelo4 = smf.logit('doenca_diag ~ escolaridade + sexo + idade + rendimento + plano + fumante + quantidade_consulta_medico + exercicio_3meses', data=pns).fit()\n",
    "modelo4.summary()"
   ]
  },
  {
   "cell_type": "code",
   "execution_count": 15,
   "metadata": {},
   "outputs": [
    {
     "data": {
      "text/plain": [
       "Intercept                     0.014091\n",
       "escolaridade                  0.944038\n",
       "sexo                          0.781452\n",
       "idade                         1.058186\n",
       "rendimento                    0.998755\n",
       "plano                         1.016982\n",
       "fumante                       1.094105\n",
       "quantidade_consulta_medico    1.098563\n",
       "exercicio_3meses              0.974200\n",
       "dtype: float64"
      ]
     },
     "execution_count": 15,
     "metadata": {},
     "output_type": "execute_result"
    }
   ],
   "source": [
    "np.exp(modelo4.params)"
   ]
  },
  {
   "cell_type": "markdown",
   "metadata": {},
   "source": [
    "- homens têm uma chance 22% menor de serem diagnosticados com alguma doença crônica.\n",
    "- um ano a mais de idade aumenta em 6% a chance de ser diagnosticado com alguma doença crônica.\n",
    "- uma cnosulta a mais no médico no último ano aumenta em 9,86% a chance de o indivíduo ser diagnosticado com alguma doença crônica.\n",
    "- variáveis escolaridade, plano, rendimento, fuma e exercicios_3meses não foram significativas."
   ]
  },
  {
   "cell_type": "markdown",
   "metadata": {},
   "source": [
    "### **Modelo 5**"
   ]
  },
  {
   "cell_type": "code",
   "execution_count": 16,
   "metadata": {},
   "outputs": [
    {
     "name": "stdout",
     "output_type": "stream",
     "text": [
      "Optimization terminated successfully.\n",
      "         Current function value: 0.389674\n",
      "         Iterations 7\n"
     ]
    },
    {
     "data": {
      "text/html": [
       "<table class=\"simpletable\">\n",
       "<caption>Logit Regression Results</caption>\n",
       "<tr>\n",
       "  <th>Dep. Variable:</th> <td>doenca_hipertensao</td> <th>  No. Observations:  </th>   <td>  9136</td>  \n",
       "</tr>\n",
       "<tr>\n",
       "  <th>Model:</th>                <td>Logit</td>       <th>  Df Residuals:      </th>   <td>  9127</td>  \n",
       "</tr>\n",
       "<tr>\n",
       "  <th>Method:</th>                <td>MLE</td>        <th>  Df Model:          </th>   <td>     8</td>  \n",
       "</tr>\n",
       "<tr>\n",
       "  <th>Date:</th>           <td>Mon, 18 Mar 2019</td>  <th>  Pseudo R-squ.:     </th>   <td>0.1393</td>  \n",
       "</tr>\n",
       "<tr>\n",
       "  <th>Time:</th>               <td>14:52:23</td>      <th>  Log-Likelihood:    </th>  <td> -3560.1</td> \n",
       "</tr>\n",
       "<tr>\n",
       "  <th>converged:</th>            <td>True</td>        <th>  LL-Null:           </th>  <td> -4136.1</td> \n",
       "</tr>\n",
       "<tr>\n",
       "  <th> </th>                       <td> </td>         <th>  LLR p-value:       </th> <td>2.127e-243</td>\n",
       "</tr>\n",
       "</table>\n",
       "<table class=\"simpletable\">\n",
       "<tr>\n",
       "        <td></td>          <th>coef</th>     <th>std err</th>      <th>z</th>      <th>P>|z|</th>  <th>[0.025</th>    <th>0.975]</th>  \n",
       "</tr>\n",
       "<tr>\n",
       "  <th>Intercept</th>    <td>   -4.8371</td> <td>    0.142</td> <td>  -34.002</td> <td> 0.000</td> <td>   -5.116</td> <td>   -4.558</td>\n",
       "</tr>\n",
       "<tr>\n",
       "  <th>escolaridade</th> <td>   -0.1259</td> <td>    0.070</td> <td>   -1.790</td> <td> 0.073</td> <td>   -0.264</td> <td>    0.012</td>\n",
       "</tr>\n",
       "<tr>\n",
       "  <th>sexo</th>         <td>   -0.0353</td> <td>    0.064</td> <td>   -0.555</td> <td> 0.579</td> <td>   -0.160</td> <td>    0.089</td>\n",
       "</tr>\n",
       "<tr>\n",
       "  <th>idade</th>        <td>    0.0787</td> <td>    0.003</td> <td>   29.169</td> <td> 0.000</td> <td>    0.073</td> <td>    0.084</td>\n",
       "</tr>\n",
       "<tr>\n",
       "  <th>rendimento</th>   <td>   -0.0029</td> <td>    0.002</td> <td>   -1.699</td> <td> 0.089</td> <td>   -0.006</td> <td>    0.000</td>\n",
       "</tr>\n",
       "<tr>\n",
       "  <th>plano</th>        <td>   -0.1396</td> <td>    0.065</td> <td>   -2.132</td> <td> 0.033</td> <td>   -0.268</td> <td>   -0.011</td>\n",
       "</tr>\n",
       "<tr>\n",
       "  <th>fumante</th>      <td>   -0.0980</td> <td>    0.098</td> <td>   -1.001</td> <td> 0.317</td> <td>   -0.290</td> <td>    0.094</td>\n",
       "</tr>\n",
       "<tr>\n",
       "  <th>consulta</th>     <td>    0.0606</td> <td>    0.007</td> <td>    8.795</td> <td> 0.000</td> <td>    0.047</td> <td>    0.074</td>\n",
       "</tr>\n",
       "<tr>\n",
       "  <th>exercicio</th>    <td>   -0.1492</td> <td>    0.066</td> <td>   -2.268</td> <td> 0.023</td> <td>   -0.278</td> <td>   -0.020</td>\n",
       "</tr>\n",
       "</table>"
      ],
      "text/plain": [
       "<class 'statsmodels.iolib.summary.Summary'>\n",
       "\"\"\"\n",
       "                           Logit Regression Results                           \n",
       "==============================================================================\n",
       "Dep. Variable:     doenca_hipertensao   No. Observations:                 9136\n",
       "Model:                          Logit   Df Residuals:                     9127\n",
       "Method:                           MLE   Df Model:                            8\n",
       "Date:                Mon, 18 Mar 2019   Pseudo R-squ.:                  0.1393\n",
       "Time:                        14:52:23   Log-Likelihood:                -3560.1\n",
       "converged:                       True   LL-Null:                       -4136.1\n",
       "                                        LLR p-value:                2.127e-243\n",
       "================================================================================\n",
       "                   coef    std err          z      P>|z|      [0.025      0.975]\n",
       "--------------------------------------------------------------------------------\n",
       "Intercept       -4.8371      0.142    -34.002      0.000      -5.116      -4.558\n",
       "escolaridade    -0.1259      0.070     -1.790      0.073      -0.264       0.012\n",
       "sexo            -0.0353      0.064     -0.555      0.579      -0.160       0.089\n",
       "idade            0.0787      0.003     29.169      0.000       0.073       0.084\n",
       "rendimento      -0.0029      0.002     -1.699      0.089      -0.006       0.000\n",
       "plano           -0.1396      0.065     -2.132      0.033      -0.268      -0.011\n",
       "fumante         -0.0980      0.098     -1.001      0.317      -0.290       0.094\n",
       "consulta         0.0606      0.007      8.795      0.000       0.047       0.074\n",
       "exercicio       -0.1492      0.066     -2.268      0.023      -0.278      -0.020\n",
       "================================================================================\n",
       "\"\"\""
      ]
     },
     "execution_count": 16,
     "metadata": {},
     "output_type": "execute_result"
    }
   ],
   "source": [
    "modelo5 = smf.logit('doenca_hipertensao ~ escolaridade + sexo + idade + rendimento + plano + fumante + consulta + exercicio',\n",
    "          data=pns).fit()\n",
    "modelo5.summary()"
   ]
  },
  {
   "cell_type": "code",
   "execution_count": 17,
   "metadata": {},
   "outputs": [
    {
     "data": {
      "text/plain": [
       "Intercept       0.007930\n",
       "escolaridade    0.881737\n",
       "sexo            0.965351\n",
       "idade           1.081903\n",
       "rendimento      0.997116\n",
       "plano           0.869676\n",
       "fumante         0.906619\n",
       "consulta        1.062449\n",
       "exercicio       0.861431\n",
       "dtype: float64"
      ]
     },
     "execution_count": 17,
     "metadata": {},
     "output_type": "execute_result"
    }
   ],
   "source": [
    "np.exp(modelo5.params)"
   ]
  },
  {
   "cell_type": "markdown",
   "metadata": {},
   "source": [
    "- a variável idade mostra que um ano a mais de idade aumenta em 8% a chance de o indivíduo ser diagnosticado com hipertensão.\n",
    "- possuir plano de saúde diminui em 13,03% a chance de o indivíduo ser diagnosticado com hipertensão.\n",
    "- a variável que mostra a quantidade de vezes que a pessoa foi ao médico no último ano mostra que uma ida a mais aumenta em 6% a chance de a pessoa ser diagnosticada com hipertensão.\n",
    "- por fim, ter feito algum exercício físico nos últimos três meses diminui em 13,86% a chance de o indivíduo ser diagnosticado com hipertensão.\n",
    "- escolaridade, sexo, rendimento e fumante não foram significativas."
   ]
  },
  {
   "cell_type": "markdown",
   "metadata": {},
   "source": [
    "### **Tabela com os resultados dos dois modelos**"
   ]
  },
  {
   "cell_type": "code",
   "execution_count": 19,
   "metadata": {},
   "outputs": [
    {
     "name": "stdout",
     "output_type": "stream",
     "text": [
      "Optimization terminated successfully.\n",
      "         Current function value: 0.377381\n",
      "         Iterations 6\n",
      "Optimization terminated successfully.\n",
      "         Current function value: 0.389674\n",
      "         Iterations 7\n",
      "\n",
      "===================================\n",
      "                  Modelo 4 Modelo 5\n",
      "-----------------------------------\n",
      "Intercept         -4.26    -4.84   \n",
      "                  (0.14)   (0.14)  \n",
      "escolaridade      -0.06    -0.13   \n",
      "                  (0.07)   (0.07)  \n",
      "mulher            -0.25    -0.04   \n",
      "                  (0.06)   (0.06)  \n",
      "idade             0.06     0.08    \n",
      "                  (0.00)   (0.00)  \n",
      "rendimento        -0.00    -0.00   \n",
      "                  (0.00)   (0.00)  \n",
      "plano             0.02     -0.14   \n",
      "                  (0.07)   (0.07)  \n",
      "fumante           0.09     -0.10   \n",
      "                  (0.10)   (0.10)  \n",
      "consulta          0.09     0.06    \n",
      "                  (0.01)   (0.01)  \n",
      "exercicio         -0.03    -0.15   \n",
      "                  (0.07)   (0.07)  \n",
      "Pseudo R-quadrado 0.10     0.14    \n",
      "Nº de observações 9437     9136    \n",
      "===================================\n",
      "Standard errors in parentheses.\n"
     ]
    }
   ],
   "source": [
    "modelo4 = smf.logit('doenca_diag ~ escolaridade + mulher + idade + rendimento + plano + fumante + consulta + exercicio',\n",
    "                    data=pns).fit()\n",
    "modelo5 = smf.logit('doenca_hipertensao ~ escolaridade + mulher + idade + rendimento + plano + fumante + consulta + exercicio',\n",
    "          data=pns).fit()\n",
    "\n",
    "info_dict={'Pseudo R-quadrado' : lambda x: \"{:.2f}\".format(x.prsquared),\n",
    "           'Nº de observações' : lambda x: \"{0:d}\".format(int(x.nobs))}\n",
    "\n",
    "tabela2 = summary_col(results=[modelo4, modelo5],\n",
    "                            float_format='%0.2f',\n",
    "                            model_names=['Modelo 4', 'Modelo 5'],\n",
    "                            info_dict=info_dict,\n",
    "                            regressor_order=['Intercept', 'escolaridade', 'mulher', 'idade',\n",
    "                                             'rendimento', 'plano', 'fumante', 'consulta',\n",
    "                                            'exercicio'])\n",
    "\n",
    "tabela.add_title('Resultados das regressões')\n",
    "\n",
    "print(tabela2)"
   ]
  },
  {
   "cell_type": "code",
   "execution_count": 20,
   "metadata": {},
   "outputs": [
    {
     "data": {
      "text/plain": [
       "'<table border=\"1\" class=\"dataframe\">\\n  <thead>\\n    <tr style=\"text-align: right;\">\\n      <th></th>\\n      <th>Modelo 4</th>\\n      <th>exp4</th>\\n      <th>Modelo 5</th>\\n      <th>exp5</th>\\n    </tr>\\n  </thead>\\n  <tbody>\\n    <tr>\\n      <th>Intercept</th>\\n      <td>-4.26</td>\\n      <td>0.0140914</td>\\n      <td>-4.84</td>\\n      <td>0.00793032</td>\\n    </tr>\\n    <tr>\\n      <th></th>\\n      <td>(0.14)</td>\\n      <td></td>\\n      <td>(0.14)</td>\\n      <td></td>\\n    </tr>\\n    <tr>\\n      <th>escolaridade</th>\\n      <td>-0.06</td>\\n      <td>0.944038</td>\\n      <td>-0.13</td>\\n      <td>0.881737</td>\\n    </tr>\\n    <tr>\\n      <th></th>\\n      <td>(0.07)</td>\\n      <td></td>\\n      <td>(0.07)</td>\\n      <td></td>\\n    </tr>\\n    <tr>\\n      <th>mulher</th>\\n      <td>-0.25</td>\\n      <td>0.781452</td>\\n      <td>-0.04</td>\\n      <td>0.965351</td>\\n    </tr>\\n    <tr>\\n      <th></th>\\n      <td>(0.06)</td>\\n      <td></td>\\n      <td>(0.06)</td>\\n      <td></td>\\n    </tr>\\n    <tr>\\n      <th>idade</th>\\n      <td>0.06</td>\\n      <td>1.05819</td>\\n      <td>0.08</td>\\n      <td>1.0819</td>\\n    </tr>\\n    <tr>\\n      <th></th>\\n      <td>(0.00)</td>\\n      <td></td>\\n      <td>(0.00)</td>\\n      <td></td>\\n    </tr>\\n    <tr>\\n      <th>rendimento</th>\\n      <td>-0.00</td>\\n      <td>0.998755</td>\\n      <td>-0.00</td>\\n      <td>0.997116</td>\\n    </tr>\\n    <tr>\\n      <th></th>\\n      <td>(0.00)</td>\\n      <td></td>\\n      <td>(0.00)</td>\\n      <td></td>\\n    </tr>\\n    <tr>\\n      <th>plano</th>\\n      <td>0.02</td>\\n      <td>1.01698</td>\\n      <td>-0.14</td>\\n      <td>0.869676</td>\\n    </tr>\\n    <tr>\\n      <th></th>\\n      <td>(0.07)</td>\\n      <td></td>\\n      <td>(0.07)</td>\\n      <td></td>\\n    </tr>\\n    <tr>\\n      <th>fumante</th>\\n      <td>0.09</td>\\n      <td>1.0941</td>\\n      <td>-0.10</td>\\n      <td>0.906619</td>\\n    </tr>\\n    <tr>\\n      <th></th>\\n      <td>(0.10)</td>\\n      <td></td>\\n      <td>(0.10)</td>\\n      <td></td>\\n    </tr>\\n    <tr>\\n      <th>consulta</th>\\n      <td>0.09</td>\\n      <td>1.09856</td>\\n      <td>0.06</td>\\n      <td>1.06245</td>\\n    </tr>\\n    <tr>\\n      <th></th>\\n      <td>(0.01)</td>\\n      <td></td>\\n      <td>(0.01)</td>\\n      <td></td>\\n    </tr>\\n    <tr>\\n      <th>exercicio</th>\\n      <td>-0.03</td>\\n      <td>0.9742</td>\\n      <td>-0.15</td>\\n      <td>0.861431</td>\\n    </tr>\\n    <tr>\\n      <th></th>\\n      <td>(0.07)</td>\\n      <td></td>\\n      <td>(0.07)</td>\\n      <td></td>\\n    </tr>\\n    <tr>\\n      <th>Pseudo R-quadrado</th>\\n      <td>0.10</td>\\n      <td></td>\\n      <td>0.14</td>\\n      <td></td>\\n    </tr>\\n    <tr>\\n      <th>Nº de observações</th>\\n      <td>9437</td>\\n      <td></td>\\n      <td>9136</td>\\n      <td></td>\\n    </tr>\\n  </tbody>\\n</table>'"
      ]
     },
     "execution_count": 20,
     "metadata": {},
     "output_type": "execute_result"
    }
   ],
   "source": [
    "c = tabela2.tables[0]\n",
    "expmodelo4 = np.exp(modelo4.params)\n",
    "expmodelo5 = np.exp(modelo5.params)\n",
    "c['exp4'] = expmodelo4\n",
    "c['exp5'] = expmodelo5\n",
    "c = c.loc[:, ['Modelo 4', 'exp4', 'Modelo 5', 'exp5']]\n",
    "c = c.replace(np.nan, '')\n",
    "c.to_html()\n",
    "# copiar e colar especial"
   ]
  }
 ],
 "metadata": {
  "kernelspec": {
   "display_name": "Python 3",
   "language": "python",
   "name": "python3"
  },
  "language_info": {
   "codemirror_mode": {
    "name": "ipython",
    "version": 3
   },
   "file_extension": ".py",
   "mimetype": "text/x-python",
   "name": "python",
   "nbconvert_exporter": "python",
   "pygments_lexer": "ipython3",
   "version": "3.6.7"
  }
 },
 "nbformat": 4,
 "nbformat_minor": 2
}
